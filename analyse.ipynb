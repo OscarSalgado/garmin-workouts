{
 "cells": [
  {
   "cell_type": "code",
   "execution_count": null,
   "metadata": {},
   "outputs": [],
   "source": [
    "# Clean Jupyter environment\n",
    "%reset -f"
   ]
  },
  {
   "cell_type": "code",
   "execution_count": null,
   "metadata": {
    "tags": [
     "parameters"
    ]
   },
   "outputs": [],
   "source": [
    "name = 'trainingplans/*/Self/base/*/*.yaml'"
   ]
  },
  {
   "cell_type": "code",
   "execution_count": null,
   "metadata": {},
   "outputs": [],
   "source": [
    "from garminworkouts.models.workout import Workout\n",
    "import argparse\n",
    "from garminworkouts.models.settings import settings\n",
    "\n",
    "args = argparse.Namespace(trainingplan=name)\n",
    "workouts, *_ = settings(args)\n",
    "weeks_range, mileage, duration, tss, ecos, Rdist, rdists, day_min, day_max = Workout.load_metrics(workouts=workouts)"
   ]
  },
  {
   "cell_type": "code",
   "execution_count": null,
   "metadata": {},
   "outputs": [],
   "source": [
    "import matplotlib.pyplot as plt\n",
    "\n",
    "weeks = list(weeks_range)\n",
    "Mileage = [mileage[w] for w in weeks]\n",
    "Duration = [duration[w] for w in weeks]\n",
    "TSS = [tss[w] for w in weeks]\n",
    "ECOs = [ecos[w] for w in weeks]\n",
    "Rdists = [rdists[w] for w in weeks]"
   ]
  },
  {
   "cell_type": "code",
   "execution_count": null,
   "metadata": {},
   "outputs": [],
   "source": [
    "plt.figure(figsize=(12, 12))\n",
    "\n",
    "# Filter out weeks with zero values\n",
    "non_zero_weeks = [week for week, mile, dur in zip(weeks, Mileage, Duration) if mile > 0 or dur.total_seconds() > 0]\n",
    "non_zero_mileage = [mile for mile, dur in zip(Mileage, Duration) if mile > 0 or dur.total_seconds() > 0]\n",
    "non_zero_ECOs = [eco for eco in ECOs if eco > 0]\n",
    "non_zero_duration = [dur for dur in Duration if dur.total_seconds() > 0]\n",
    "\n",
    "plt.subplot(3, 1, 1)\n",
    "plt.bar(non_zero_weeks[::-1], non_zero_mileage[::-1])\n",
    "plt.ylabel('Mileage (km)')\n",
    "plt.title('Mileage per Week')\n",
    "plt.gca().invert_xaxis()\n",
    "\n",
    "plt.subplot(3, 1, 2)\n",
    "plt.bar(non_zero_weeks[::-1], [d.total_seconds() / 3600 for d in non_zero_duration[::-1]])\n",
    "plt.ylabel('Duration (hours)')\n",
    "plt.title('Duration per Week')\n",
    "plt.gca().invert_xaxis()\n",
    "\n",
    "plt.subplot(3, 1, 3)\n",
    "plt.bar(non_zero_weeks[::-1], non_zero_ECOs[::-1])\n",
    "plt.xlabel('Week')\n",
    "plt.ylabel('ECOs')\n",
    "plt.title('Training load per Week')\n",
    "plt.gca().invert_xaxis()\n",
    "\n",
    "plt.figure(figsize=(12, 6))\n",
    "bottom = [0] * len(non_zero_weeks)\n",
    "colors = ['g', 'b', 'c', 'y', 'orange', 'r', 'm', 'k']\n",
    "labels = ['R0', 'R1', 'R2', 'R3', 'R3+', 'R4', 'R5', 'R6']\n",
    "\n",
    "for i in range(len(Rdist)):\n",
    "    values = [week[i] / 3600 for week in Rdists if sum(week) > 0]\n",
    "    plt.bar(non_zero_weeks[::-1], values[::-1], bottom=bottom[::-1], color=colors[i], label=labels[i])\n",
    "    bottom = [sum(x) for x in zip(bottom, values)]\n",
    "\n",
    "plt.xlabel('Week')\n",
    "plt.ylabel('Distribution (hours)')\n",
    "plt.title('Zone Distribution per Week')\n",
    "plt.legend()\n",
    "plt.gca().invert_xaxis()\n",
    "\n",
    "plt.figure(figsize=(12, 6))\n",
    "plt.bar(range(len(Rdist)), [r / 3600 for r in Rdist])\n",
    "plt.xlabel('Zones')\n",
    "plt.ylabel('Distribution (hours)')\n",
    "plt.title('Zone Distribution Plot')\n",
    "plt.xticks(range(len(Rdist)), labels)\n",
    "plt.show()"
   ]
  }
 ],
 "metadata": {
  "kernelspec": {
   "display_name": ".venv",
   "language": "python",
   "name": "python3"
  },
  "language_info": {
   "codemirror_mode": {
    "name": "ipython",
    "version": 3
   },
   "file_extension": ".py",
   "mimetype": "text/x-python",
   "name": "python",
   "nbconvert_exporter": "python",
   "pygments_lexer": "ipython3",
   "version": "3.13.3"
  }
 },
 "nbformat": 4,
 "nbformat_minor": 2
}
